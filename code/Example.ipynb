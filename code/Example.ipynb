{
 "cells": [
  {
   "cell_type": "code",
   "execution_count": 2,
   "metadata": {},
   "outputs": [],
   "source": [
    "import os"
   ]
  },
  {
   "cell_type": "code",
   "execution_count": null,
   "metadata": {},
   "outputs": [],
   "source": []
  },
  {
   "cell_type": "code",
   "execution_count": 4,
   "metadata": {},
   "outputs": [
    {
     "name": "stderr",
     "output_type": "stream",
     "text": [
      "Using TensorFlow backend.\n"
     ]
    }
   ],
   "source": [
    "import tensorflow as tf\n",
    "import keras.backend.tensorflow_backend as KTF\n",
    " \n",
    "config = tf.ConfigProto()  \n",
    "config.gpu_options.allow_growth=True  \n",
    "session = tf.Session(config=config)\n",
    " \n",
    "KTF.set_session(session)"
   ]
  },
  {
   "cell_type": "code",
   "execution_count": 5,
   "metadata": {},
   "outputs": [],
   "source": [
    "from utils import *\n",
    "from preprecoess import *\n",
    "from generator import *\n",
    "from models import *\n",
    "from fl_training import *"
   ]
  },
  {
   "cell_type": "code",
   "execution_count": null,
   "metadata": {},
   "outputs": [],
   "source": []
  },
  {
   "cell_type": "code",
   "execution_count": 6,
   "metadata": {},
   "outputs": [],
   "source": [
    "root_data_path = None # MIND-Dataset Path\n",
    "embedding_path = None # Word Embedding Path"
   ]
  },
  {
   "cell_type": "code",
   "execution_count": null,
   "metadata": {},
   "outputs": [],
   "source": []
  },
  {
   "cell_type": "code",
   "execution_count": 7,
   "metadata": {},
   "outputs": [],
   "source": [
    "# Read News\n",
    "news,news_index,category_dict,subcategory_dict,word_dict = read_news(root_data_path,['train','val'])\n",
    "news_title,news_vert,news_subvert=get_doc_input(news,news_index,category_dict,subcategory_dict,word_dict)\n",
    "title_word_embedding_matrix, have_word = load_matrix(embedding_path,word_dict)"
   ]
  },
  {
   "cell_type": "code",
   "execution_count": null,
   "metadata": {},
   "outputs": [],
   "source": []
  },
  {
   "cell_type": "code",
   "execution_count": 8,
   "metadata": {},
   "outputs": [],
   "source": [
    "#Parse User\n",
    "train_session, train_uid_click, train_uid_table = read_clickhistory(root_data_path,'train')\n",
    "test_session, test_uid_click,test_uid_table = read_clickhistory(root_data_path,'val')\n",
    "train_user = parse_user(train_session,news_index)\n",
    "test_user = parse_user(test_session,news_index)\n",
    "train_sess, train_user_id, train_label, train_user_id_sample = get_train_input(train_session,train_uid_click,news_index)\n",
    "test_impressions, test_userids = get_test_input(test_session,news_index)"
   ]
  },
  {
   "cell_type": "code",
   "execution_count": null,
   "metadata": {},
   "outputs": [],
   "source": []
  },
  {
   "cell_type": "code",
   "execution_count": 9,
   "metadata": {},
   "outputs": [],
   "source": [
    "get_user_data = GetUserDataFunc(news_title,train_user_id_sample,train_user,train_sess,train_label,train_user_id)"
   ]
  },
  {
   "cell_type": "code",
   "execution_count": null,
   "metadata": {},
   "outputs": [],
   "source": []
  },
  {
   "cell_type": "code",
   "execution_count": null,
   "metadata": {
    "scrolled": true
   },
   "outputs": [],
   "source": [
    "lr = 0.3\n",
    "delta = 0.05\n",
    "lambd = 0\n",
    "ratio = 0.02\n",
    "num = 6\n",
    "\n",
    "model, doc_encoder, user_encoder, news_encoder = get_model(lr,delta,title_word_embedding_matrix)\n",
    "Res = []\n",
    "Loss = []\n",
    "count = 0\n",
    "while True:\n",
    "    loss = fed_single_update(model,doc_encoder,user_encoder,num,lr,get_user_data,train_uid_table)\n",
    "    Loss.append(loss)\n",
    "    if count % 25 == 0:\n",
    "        news_scoring = news_encoder.predict(news_title,verbose=0)\n",
    "        user_generator = get_hir_user_generator(news_scoring,test_user['click'],64)\n",
    "        user_scoring = user_encoder.predict_generator(user_generator,verbose=0),\n",
    "        user_scoring = user_scoring[0]\n",
    "        g = evaluate(user_scoring,news_scoring,test_impressions)\n",
    "        Res.append(g)\n",
    "        print(g)\n",
    "        with open('FedRec-woLDP-1.json','a') as f:\n",
    "            s = json.dumps(g) + '\\n'\n",
    "            f.write(s)\n",
    "    count += 1"
   ]
  },
  {
   "cell_type": "code",
   "execution_count": null,
   "metadata": {},
   "outputs": [],
   "source": []
  },
  {
   "cell_type": "code",
   "execution_count": null,
   "metadata": {},
   "outputs": [],
   "source": []
  }
 ],
 "metadata": {
  "kernelspec": {
   "display_name": "Python 3",
   "language": "python",
   "name": "python3"
  },
  "language_info": {
   "codemirror_mode": {
    "name": "ipython",
    "version": 3
   },
   "file_extension": ".py",
   "mimetype": "text/x-python",
   "name": "python",
   "nbconvert_exporter": "python",
   "pygments_lexer": "ipython3",
   "version": "3.7.6"
  }
 },
 "nbformat": 4,
 "nbformat_minor": 2
}
